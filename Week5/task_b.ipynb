{
 "cells": [
  {
   "cell_type": "markdown",
   "metadata": {},
   "source": [
    "# Prompts"
   ]
  },
  {
   "cell_type": "code",
   "execution_count": 1,
   "metadata": {},
   "outputs": [
    {
     "name": "stderr",
     "output_type": "stream",
     "text": [
      "C:\\Users\\vegag\\AppData\\Local\\Packages\\PythonSoftwareFoundation.Python.3.9_qbz5n2kfra8p0\\LocalCache\\local-packages\\Python39\\site-packages\\tqdm\\auto.py:21: TqdmWarning: IProgress not found. Please update jupyter and ipywidgets. See https://ipywidgets.readthedocs.io/en/stable/user_install.html\n",
      "  from .autonotebook import tqdm as notebook_tqdm\n"
     ]
    }
   ],
   "source": [
    "import os\n",
    "import pickle\n",
    "import time\n",
    "from diffusers import StableDiffusionPipeline\n",
    "import time\n",
    "import os\n",
    "import pickle\n",
    "\n",
    "prompts = [\n",
    "    \"A vibrant marketplace with stalls selling exotic goods.\",\n",
    "    \"A mystical underwater cave filled with bioluminescent creatures.\",\n",
    "    \"A colorful parrot perched on a tree branch.\",\n",
    "    \"A beautiful woman with her cat in a garden full of flowers.\"\n",
    "]"
   ]
  },
  {
   "cell_type": "markdown",
   "metadata": {},
   "source": [
    "# Utility functions"
   ]
  },
  {
   "cell_type": "code",
   "execution_count": 2,
   "metadata": {},
   "outputs": [],
   "source": [
    "def predict_image(pipe, prompt, times):\n",
    "    start = time.time()\n",
    "    image = pipe(prompt).images[0]\n",
    "    end = time.time()\n",
    "\n",
    "    times.append(end - start)\n",
    "\n",
    "    return image"
   ]
  },
  {
   "cell_type": "markdown",
   "metadata": {},
   "source": [
    "# Experiments"
   ]
  },
  {
   "cell_type": "markdown",
   "metadata": {},
   "source": [
    "## DPM vs DDIM"
   ]
  },
  {
   "cell_type": "markdown",
   "metadata": {},
   "source": [
    "### DPM pipeline"
   ]
  },
  {
   "cell_type": "code",
   "execution_count": 3,
   "metadata": {},
   "outputs": [
    {
     "name": "stderr",
     "output_type": "stream",
     "text": [
      "Loading pipeline components...: 100%|██████████| 6/6 [00:08<00:00,  1.35s/it]\n"
     ]
    }
   ],
   "source": [
    "from diffusers import DPMSolverMultistepScheduler\n",
    "import torch\n",
    "\n",
    "model_id = \"stabilityai/stable-diffusion-2-1\"\n",
    "\n",
    "# Use the DPMSolverMultistepScheduler (DPM-Solver++) scheduler here instead\n",
    "dpm_pipe = StableDiffusionPipeline.from_pretrained(model_id, torch_dtype=torch.float16)\n",
    "dpm_pipe.scheduler = DPMSolverMultistepScheduler.from_config(\n",
    "    dpm_pipe.scheduler.config\n",
    ")\n",
    "dpm_pipe = dpm_pipe.to(\"cuda\")"
   ]
  },
  {
   "cell_type": "markdown",
   "metadata": {},
   "source": [
    "### DDIM pipeline"
   ]
  },
  {
   "cell_type": "code",
   "execution_count": 4,
   "metadata": {},
   "outputs": [
    {
     "name": "stderr",
     "output_type": "stream",
     "text": [
      "Loading pipeline components...: 100%|██████████| 6/6 [00:01<00:00,  3.27it/s]\n"
     ]
    }
   ],
   "source": [
    "from diffusers import DDIMScheduler\n",
    "import torch\n",
    "\n",
    "\n",
    "model_id = \"stabilityai/stable-diffusion-2-1\"\n",
    "\n",
    "# Use the DDIMScheduler(DPM-Solver++) scheduler here instead\n",
    "dim_pipe = StableDiffusionPipeline.from_pretrained(model_id, torch_dtype=torch.float16)\n",
    "dim_pipe.scheduler = DDIMScheduler.from_config(\n",
    "    dim_pipe.scheduler.config, rescale_betas_zero_snr=True, timestep_spacing=\"trailing\"\n",
    ")\n",
    "dim_pipe = dim_pipe.to(\"cuda\")"
   ]
  },
  {
   "cell_type": "markdown",
   "metadata": {},
   "source": [
    "### Image generation"
   ]
  },
  {
   "cell_type": "code",
   "execution_count": null,
   "metadata": {},
   "outputs": [],
   "source": [
    "import matplotlib.pyplot as plt\n",
    "import matplotlib.image as mpimg\n",
    "\n",
    "time_dpm = []\n",
    "time_dim = []\n",
    "\n",
    "for prompt in prompts:\n",
    "    image_dpm = predict_image(dpm_pipe, prompt, time_dpm)\n",
    "    image_dim = predict_image(dim_pipe, prompt, time_dim)\n",
    "\n",
    "    # Create a figure and set of subplots\n",
    "    fig, axes = plt.subplots(1, 2)\n",
    "\n",
    "    # Plot first image\n",
    "    axes[0].imshow(image_dpm)\n",
    "    axes[0].set_title('Image DPM-Solver')\n",
    "    axes[0].axis('off')\n",
    "\n",
    "    # Plot second image\n",
    "    axes[1].imshow(image_dim)\n",
    "    axes[1].set_title('Image DIM')\n",
    "    axes[1].axis('off')\n",
    "\n",
    "    # Adjust layout\n",
    "    plt.tight_layout()\n",
    "\n",
    "    # Show the plot\n",
    "    # plt.savefig(f\"{'task_b_dpmvsdim_v1'}/diffusion_{prompt}.png\")\n",
    "    plt.cla()"
   ]
  },
  {
   "cell_type": "markdown",
   "metadata": {},
   "source": [
    "## Positive and negative prompting"
   ]
  },
  {
   "cell_type": "code",
   "execution_count": null,
   "metadata": {},
   "outputs": [],
   "source": [
    "from diffusers import DPMSolverMultistepScheduler\n",
    "import torch\n",
    "\n",
    "model_id = \"stabilityai/stable-diffusion-2-1\"\n",
    "\n",
    "# Use the DPMSolverMultistepScheduler (DPM-Solver++) scheduler here instead\n",
    "dpm_pipe = StableDiffusionPipeline.from_pretrained(model_id, torch_dtype=torch.float16)\n",
    "dpm_pipe.scheduler = DPMSolverMultistepScheduler.from_config(\n",
    "    dpm_pipe.scheduler.config\n",
    ")\n",
    "dpm_pipe = dpm_pipe.to(\"cuda\")"
   ]
  },
  {
   "cell_type": "code",
   "execution_count": null,
   "metadata": {},
   "outputs": [],
   "source": [
    "prompts_negative = [\n",
    "    \"Pink flowers\",\n",
    "    \"Pretty and alive flowers\",\n",
    "    \"Persian cat.\",\n",
    "    \"Stray cat\",\n",
    "    \"Brunette woman\",\n",
    "    \"Russian-like woman\",\n",
    "    \"Simple clothes\", # Per provar a veure com va amb un cosa que no es al actual prompt\n",
    "    \"Young woman\",\n",
    "    \"Not dressed like a clown\", # Psicologia inversa\n",
    "    \"Abundant garden\"\n",
    "]\n",
    "\n",
    "actual_prompt = \"A beautiful woman with her cat in a garden full of flowers.\""
   ]
  },
  {
   "cell_type": "code",
   "execution_count": null,
   "metadata": {},
   "outputs": [],
   "source": [
    "def predict_image_w_negative(pipe, prompt, times, negative_prompt):\n",
    "    start = time.time()\n",
    "    \n",
    "    image = pipe(prompt=prompt, negative_prompt=negative_prompt).images[0]\n",
    "    end = time.time()\n",
    "\n",
    "    times.append(end - start)\n",
    "\n",
    "    return image"
   ]
  },
  {
   "cell_type": "code",
   "execution_count": null,
   "metadata": {},
   "outputs": [],
   "source": [
    "for negative_prompt in prompts_negative:\n",
    "    \n",
    "    images_no_negative = []\n",
    "    for i in range(5):\n",
    "        images_no_negative.append(predict_image(dpm_pipe, actual_prompt, []))\n",
    "\n",
    "    images_negative = []\n",
    "    for i in range(5):\n",
    "        images_negative.append(predict_image_w_negative(dpm_pipe, actual_prompt, [], negative_prompt))\n",
    "\n",
    "    # Create a figure and set of subplots\n",
    "    fig, axes = plt.subplots(2, 5, figsize=(15, 6))\n",
    "\n",
    "    # Plot images from the first list (image_dpm_list)\n",
    "    for i, image_dpm in enumerate(images_no_negative):\n",
    "        ax = axes[0, i]\n",
    "        ax.imshow(image_dpm)\n",
    "        ax.axis('off')\n",
    "\n",
    "    # Plot images from the second list (image_dim_list)\n",
    "    for i, image_dim in enumerate(images_negative):\n",
    "        ax = axes[1, i]\n",
    "        ax.imshow(image_dim)\n",
    "        ax.axis('off')\n",
    "\n",
    "    axes[1][2].set_title(negative_prompt)\n",
    "\n",
    "    # Show the plot\n",
    "    plt.savefig(f\"{'task_b_negprompt'}/diffusion_{negative_prompt}.png\")\n",
    "    plt.cla()"
   ]
  },
  {
   "cell_type": "markdown",
   "metadata": {},
   "source": [
    "## Strength of CFG"
   ]
  },
  {
   "cell_type": "code",
   "execution_count": 62,
   "metadata": {},
   "outputs": [],
   "source": [
    "def predict_image_cfg(pipe, prompt, times, cfg):\n",
    "    start = time.time()\n",
    "    image = pipe(prompt, guidance_scale=cfg).images[0]\n",
    "    end = time.time()\n",
    "\n",
    "    times.append(end - start)\n",
    "\n",
    "    return image"
   ]
  },
  {
   "cell_type": "code",
   "execution_count": 78,
   "metadata": {},
   "outputs": [],
   "source": [
    "different_cfgs = [0, 1, 3, 10, 20, 30, 40, 50, 60, 70, 100]\n",
    "actual_prompt = \"A beautiful woman with her cat in a garden full of flowers.\"\n",
    "cfg_time = []"
   ]
  },
  {
   "cell_type": "code",
   "execution_count": 64,
   "metadata": {},
   "outputs": [
    {
     "name": "stderr",
     "output_type": "stream",
     "text": [
      "100%|██████████| 50/50 [00:03<00:00, 14.05it/s]\n",
      "100%|██████████| 50/50 [00:03<00:00, 14.49it/s]\n",
      "100%|██████████| 50/50 [00:03<00:00, 14.43it/s]\n",
      "100%|██████████| 50/50 [00:03<00:00, 14.50it/s]\n",
      "100%|██████████| 50/50 [00:03<00:00, 14.53it/s]\n",
      "100%|██████████| 50/50 [00:03<00:00, 14.51it/s]\n",
      "100%|██████████| 50/50 [00:03<00:00, 14.50it/s]\n",
      "100%|██████████| 50/50 [00:03<00:00, 14.36it/s]\n",
      "100%|██████████| 50/50 [00:03<00:00, 14.46it/s]\n",
      "100%|██████████| 50/50 [00:03<00:00, 14.56it/s]\n",
      "100%|██████████| 50/50 [00:06<00:00,  8.15it/s]\n",
      "100%|██████████| 50/50 [00:06<00:00,  8.21it/s]\n",
      "100%|██████████| 50/50 [00:06<00:00,  8.33it/s]\n",
      "100%|██████████| 50/50 [00:06<00:00,  8.19it/s]\n",
      "100%|██████████| 50/50 [00:06<00:00,  8.17it/s]\n",
      "100%|██████████| 50/50 [00:06<00:00,  8.25it/s]\n",
      "100%|██████████| 50/50 [00:05<00:00,  8.37it/s]\n",
      "100%|██████████| 50/50 [00:05<00:00,  8.56it/s]\n",
      "100%|██████████| 50/50 [00:05<00:00,  8.56it/s]\n",
      "100%|██████████| 50/50 [00:06<00:00,  8.16it/s]\n",
      "100%|██████████| 50/50 [00:06<00:00,  8.10it/s]\n",
      "100%|██████████| 50/50 [00:06<00:00,  8.10it/s]\n",
      "100%|██████████| 50/50 [00:06<00:00,  8.10it/s]\n",
      "100%|██████████| 50/50 [00:06<00:00,  8.07it/s]\n",
      "100%|██████████| 50/50 [00:06<00:00,  8.07it/s]\n"
     ]
    }
   ],
   "source": [
    "images_total = []\n",
    "for different_cfg in different_cfgs:\n",
    "    images_cfg = []\n",
    "\n",
    "    for i in range(5):\n",
    "        start = time.time()\n",
    "        image = predict_image_cfg(dpm_pipe, actual_prompt, cfg_time, different_cfg)\n",
    "        end = time.time()\n",
    "\n",
    "        cfg_time.append(end - start)\n",
    "        images_cfg.append(image)\n",
    "\n",
    "    images_total.append(images_cfg)"
   ]
  },
  {
   "cell_type": "code",
   "execution_count": 79,
   "metadata": {},
   "outputs": [
    {
     "name": "stderr",
     "output_type": "stream",
     "text": [
      "100%|██████████| 50/50 [00:06<00:00,  7.94it/s]\n",
      "100%|██████████| 50/50 [00:06<00:00,  8.21it/s]\n",
      "100%|██████████| 50/50 [00:05<00:00,  8.64it/s]\n",
      "100%|██████████| 50/50 [00:05<00:00,  8.66it/s]\n",
      "100%|██████████| 50/50 [00:05<00:00,  8.65it/s]\n",
      "100%|██████████| 50/50 [00:05<00:00,  8.65it/s]\n",
      "100%|██████████| 50/50 [00:05<00:00,  8.64it/s]\n",
      "100%|██████████| 50/50 [00:05<00:00,  8.65it/s]\n",
      "100%|██████████| 50/50 [00:05<00:00,  8.63it/s]\n",
      "100%|██████████| 50/50 [00:05<00:00,  8.63it/s]\n",
      "100%|██████████| 50/50 [00:05<00:00,  8.55it/s]\n",
      "100%|██████████| 50/50 [00:05<00:00,  8.70it/s]\n",
      "100%|██████████| 50/50 [00:05<00:00,  8.73it/s]\n",
      "100%|██████████| 50/50 [00:05<00:00,  8.72it/s]\n",
      "100%|██████████| 50/50 [00:05<00:00,  8.73it/s]\n",
      "100%|██████████| 50/50 [00:05<00:00,  8.74it/s]\n",
      "100%|██████████| 50/50 [00:05<00:00,  8.72it/s]\n",
      "100%|██████████| 50/50 [00:05<00:00,  8.69it/s]\n",
      "100%|██████████| 50/50 [00:05<00:00,  8.74it/s]\n",
      "100%|██████████| 50/50 [00:05<00:00,  8.72it/s]\n"
     ]
    }
   ],
   "source": [
    "for different_cfg in [50, 60, 70, 100]:\n",
    "    images_cfg = []\n",
    "\n",
    "    for i in range(5):\n",
    "        start = time.time()\n",
    "        image = predict_image_cfg(dpm_pipe, actual_prompt, cfg_time, different_cfg)\n",
    "        end = time.time()\n",
    "\n",
    "        cfg_time.append(end - start)\n",
    "        images_cfg.append(image)\n",
    "\n",
    "    images_total.append(images_cfg)"
   ]
  },
  {
   "cell_type": "code",
   "execution_count": 80,
   "metadata": {},
   "outputs": [
    {
     "data": {
      "text/plain": [
       "True"
      ]
     },
     "execution_count": 80,
     "metadata": {},
     "output_type": "execute_result"
    }
   ],
   "source": [
    "len(images_total) == len(different_cfgs)"
   ]
  },
  {
   "cell_type": "code",
   "execution_count": null,
   "metadata": {},
   "outputs": [],
   "source": [
    "# Adjust figsize as needed\n",
    "for i, images in enumerate(images_total):\n",
    "    fig, axes = plt.subplots(1, 5, figsize=(18, 6))\n",
    "    fig.suptitle(f'CFG: {different_cfgs[i]}', fontsize=16)\n",
    "    for j, image in enumerate(images):\n",
    "        # Plot first image\n",
    "        axes[j].imshow(image)\n",
    "        axes[j].axis('off')\n",
    "\n",
    "    # Adjust layout\n",
    "    plt.tight_layout()\n",
    "\n",
    "    # Show the plot\n",
    "    plt.savefig(f\"{'task_b_cfg'}/CFG_{different_cfgs[i]}.png\")\n",
    "    plt.cla()"
   ]
  },
  {
   "cell_type": "markdown",
   "metadata": {},
   "source": [
    "# Numero of denoising steps"
   ]
  },
  {
   "cell_type": "code",
   "execution_count": 82,
   "metadata": {},
   "outputs": [],
   "source": [
    "def predict_image_steps(pipe, prompt, times, steps):\n",
    "    start = time.time()\n",
    "    image = pipe(prompt, num_inference_steps=steps).images[0]\n",
    "    end = time.time()\n",
    "\n",
    "    times.append(end - start)\n",
    "\n",
    "    return image"
   ]
  },
  {
   "cell_type": "code",
   "execution_count": 84,
   "metadata": {},
   "outputs": [],
   "source": [
    "steps_denoise = [1, 5, 10, 15, 20, 25, 30, 35, 40, 45, 50, 55, 60, 65, 70, 75, 80, 85, 90, 95, 100, 105, 110, 115, 120, 125, 130, 135, 140, 145, 150, 155, 160, 165, 170, 175, 180, 185, 190, 195, 200]\n",
    "actual_prompt = \"A beautiful woman with her cat in a garden full of flowers.\"\n",
    "step_time = []"
   ]
  },
  {
   "cell_type": "code",
   "execution_count": 85,
   "metadata": {},
   "outputs": [
    {
     "name": "stderr",
     "output_type": "stream",
     "text": [
      "100%|██████████| 1/1 [00:00<00:00,  6.48it/s]\n",
      "100%|██████████| 5/5 [00:00<00:00,  9.71it/s]\n",
      "100%|██████████| 10/10 [00:01<00:00,  9.07it/s]\n",
      "100%|██████████| 15/15 [00:01<00:00,  8.83it/s]\n",
      "100%|██████████| 20/20 [00:02<00:00,  8.67it/s]\n",
      "100%|██████████| 25/25 [00:02<00:00,  8.91it/s]\n",
      "100%|██████████| 30/30 [00:03<00:00,  8.90it/s]\n",
      "100%|██████████| 35/35 [00:03<00:00,  8.78it/s]\n",
      "100%|██████████| 40/40 [00:04<00:00,  8.81it/s]\n",
      "100%|██████████| 45/45 [00:05<00:00,  8.65it/s]\n",
      "100%|██████████| 50/50 [00:05<00:00,  8.71it/s]\n",
      "100%|██████████| 55/55 [00:06<00:00,  8.72it/s]\n",
      "100%|██████████| 60/60 [00:06<00:00,  8.72it/s]\n",
      "100%|██████████| 65/65 [00:07<00:00,  8.73it/s]\n",
      "100%|██████████| 70/70 [00:08<00:00,  8.66it/s]\n",
      "100%|██████████| 75/75 [00:08<00:00,  8.73it/s]\n",
      "100%|██████████| 80/80 [00:09<00:00,  8.76it/s]\n",
      "100%|██████████| 85/85 [00:09<00:00,  8.81it/s]\n",
      "100%|██████████| 90/90 [00:10<00:00,  8.69it/s]\n",
      "100%|██████████| 95/95 [00:11<00:00,  8.17it/s]\n",
      "100%|██████████| 100/100 [00:11<00:00,  8.34it/s]\n",
      "100%|██████████| 105/105 [00:12<00:00,  8.34it/s]\n",
      "100%|██████████| 110/110 [00:13<00:00,  8.33it/s]\n",
      "100%|██████████| 115/115 [00:13<00:00,  8.25it/s]\n",
      "100%|██████████| 120/120 [00:14<00:00,  8.29it/s]\n",
      "100%|██████████| 125/125 [00:15<00:00,  8.30it/s]\n",
      "100%|██████████| 130/130 [00:15<00:00,  8.18it/s]\n",
      "100%|██████████| 135/135 [00:16<00:00,  7.96it/s]\n",
      "100%|██████████| 140/140 [00:17<00:00,  7.92it/s]\n",
      "100%|██████████| 145/145 [00:17<00:00,  8.21it/s]\n",
      "100%|██████████| 150/150 [00:18<00:00,  8.22it/s]\n",
      "100%|██████████| 155/155 [00:18<00:00,  8.19it/s]\n",
      "100%|██████████| 160/160 [00:19<00:00,  8.22it/s]\n",
      "100%|██████████| 165/165 [00:20<00:00,  8.20it/s]\n",
      "100%|██████████| 170/170 [00:20<00:00,  8.17it/s]\n",
      "100%|██████████| 175/175 [00:21<00:00,  8.17it/s]\n",
      "100%|██████████| 180/180 [00:22<00:00,  8.11it/s]\n",
      "100%|██████████| 185/185 [00:22<00:00,  8.25it/s]\n",
      "100%|██████████| 190/190 [00:23<00:00,  8.22it/s]\n",
      "100%|██████████| 195/195 [00:24<00:00,  8.09it/s]\n",
      "100%|██████████| 200/200 [00:24<00:00,  8.21it/s]\n"
     ]
    }
   ],
   "source": [
    "for denoised in steps_denoise:\n",
    "    image = predict_image_steps(dpm_pipe, actual_prompt, step_time, denoised)\n",
    "\n",
    "    image.save(f\"{'task_b_steps'}/steps_{denoised}.png\")"
   ]
  },
  {
   "cell_type": "code",
   "execution_count": 94,
   "metadata": {},
   "outputs": [
    {
     "data": {
      "text/plain": [
       "Text(0, 0.5, 'Time (s)')"
      ]
     },
     "execution_count": 94,
     "metadata": {},
     "output_type": "execute_result"
    },
    {
     "data": {
      "image/png": "[encoded data removed]",
      "text/plain": [
       "<Figure size 640x480 with 1 Axes>"
      ]
     },
     "metadata": {},
     "output_type": "display_data"
    }
   ],
   "source": [
    "plt.plot(steps_denoise, step_time)\n",
    "plt.xlabel('Denoising steps')\n",
    "plt.ylabel('Time (s)')"
   ]
  }
 ],
 "metadata": {
  "kernelspec": {
   "display_name": "Python 3",
   "language": "python",
   "name": "python3"
  },
  "language_info": {
   "codemirror_mode": {
    "name": "ipython",
    "version": 3
   },
   "file_extension": ".py",
   "mimetype": "text/x-python",
   "name": "python",
   "nbconvert_exporter": "python",
   "pygments_lexer": "ipython3",
   "version": "3.9.13"
  }
 },
 "nbformat": 4,
 "nbformat_minor": 2
}
