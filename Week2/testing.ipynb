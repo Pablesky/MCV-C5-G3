{
 "cells": [
  {
   "cell_type": "code",
   "execution_count": 4,
   "metadata": {},
   "outputs": [
    {
     "data": {
      "text/plain": [
       "(-0.5, 1241.5, 374.5, -0.5)"
      ]
     },
     "execution_count": 4,
     "metadata": {},
     "output_type": "execute_result"
    },
    {
     "data": {
      "image/png": "[encoded data removed]",
      "text/plain": [
       "<Figure size 640x480 with 1 Axes>"
      ]
     },
     "metadata": {},
     "output_type": "display_data"
    }
   ],
   "source": [
    "import cv2\n",
    "import matplotlib.pyplot as plt\n",
    "\n",
    "mask = cv2.imread('../KITTI-MOTS/instances/0000/000000.png', cv2.IMREAD_UNCHANGED)\n",
    "\n",
    "ret, bianry = cv2.threshold(mask, 0, 255, cv2.THRESH_BINARY)\n",
    "\n",
    "plt.imshow(bianry, cmap='gray')\n",
    "plt.axis('off')"
   ]
  },
  {
   "cell_type": "code",
   "execution_count": 14,
   "metadata": {},
   "outputs": [
    {
     "data": {
      "text/plain": [
       "(-0.5, 1241.5, 374.5, -0.5)"
      ]
     },
     "execution_count": 14,
     "metadata": {},
     "output_type": "execute_result"
    },
    {
     "data": {
      "image/png": "[encoded data removed]",
      "text/plain": [
       "<Figure size 640x480 with 1 Axes>"
      ]
     },
     "metadata": {},
     "output_type": "display_data"
    }
   ],
   "source": [
    "mask = cv2.imread('../KITTI-MOTS/instances/0000/000000.png', cv2.IMREAD_UNCHANGED)\n",
    "\n",
    "mask[mask == 10000] = 0\n",
    "mask[mask == 2002] = 0\n",
    "mask[mask == 0] = 255\n",
    "\n",
    "plt.imshow(mask, cmap='gray')\n",
    "plt.axis('off')"
   ]
  },
  {
   "cell_type": "code",
   "execution_count": 15,
   "metadata": {},
   "outputs": [
    {
     "data": {
      "text/plain": [
       "array([255], dtype=uint16)"
      ]
     },
     "execution_count": 15,
     "metadata": {},
     "output_type": "execute_result"
    }
   ],
   "source": [
    "np.unique(mask)"
   ]
  },
  {
   "cell_type": "code",
   "execution_count": 11,
   "metadata": {},
   "outputs": [
    {
     "name": "stdout",
     "output_type": "stream",
     "text": [
      "[    0  2002 10000]\n"
     ]
    }
   ],
   "source": [
    "import numpy as np\n",
    "mask = cv2.imread('../KITTI-MOTS/instances/0000/000000.png', cv2.IMREAD_UNCHANGED)\n",
    "obj_ids = np.unique(mask)\n",
    "print(obj_ids)"
   ]
  },
  {
   "cell_type": "code",
   "execution_count": 12,
   "metadata": {},
   "outputs": [
    {
     "data": {
      "text/plain": [
       "(-0.5, 1241.5, 374.5, -0.5)"
      ]
     },
     "execution_count": 12,
     "metadata": {},
     "output_type": "execute_result"
    },
    {
     "data": {
      "image/png": "[encoded data removed]",
      "text/plain": [
       "<Figure size 640x480 with 1 Axes>"
      ]
     },
     "metadata": {},
     "output_type": "display_data"
    }
   ],
   "source": [
    "plt.imshow(mask, cmap='gray')\n",
    "plt.axis('off')"
   ]
  },
  {
   "cell_type": "code",
   "execution_count": 7,
   "metadata": {},
   "outputs": [
    {
     "name": "stdout",
     "output_type": "stream",
     "text": [
      "[    0  2002 10000]\n"
     ]
    }
   ],
   "source": [
    "import PIL.Image as Image\n",
    "import numpy as np\n",
    "\n",
    "img = np.array(Image.open('../KITTI-MOTS/instances/0000/000000.png'))\n",
    "obj_ids = np.unique(img)\n",
    "# to correctly interpret the id of a single object\n",
    "obj_id = obj_ids[0]\n",
    "class_id = obj_id // 1000\n",
    "obj_instance_id = obj_id % 1000\n",
    "\n",
    "print(obj_ids)"
   ]
  }
 ],
 "metadata": {
  "kernelspec": {
   "display_name": "Python 3",
   "language": "python",
   "name": "python3"
  },
  "language_info": {
   "codemirror_mode": {
    "name": "ipython",
    "version": 3
   },
   "file_extension": ".py",
   "mimetype": "text/x-python",
   "name": "python",
   "nbconvert_exporter": "python",
   "pygments_lexer": "ipython3",
   "version": "3.9.13"
  }
 },
 "nbformat": 4,
 "nbformat_minor": 2
}
